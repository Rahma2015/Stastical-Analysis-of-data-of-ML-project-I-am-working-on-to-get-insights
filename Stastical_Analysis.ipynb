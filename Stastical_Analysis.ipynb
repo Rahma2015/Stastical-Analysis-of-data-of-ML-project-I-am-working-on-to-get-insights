{
  "nbformat": 4,
  "nbformat_minor": 0,
  "metadata": {
    "colab": {
      "name": "Stastical Analysis.ipynb",
      "provenance": [],
      "collapsed_sections": [],
      "authorship_tag": "ABX9TyPdyQnBYJYmu7JcBDoc/69Y",
      "include_colab_link": true
    },
    "kernelspec": {
      "name": "python3",
      "display_name": "Python 3"
    },
    "language_info": {
      "name": "python"
    }
  },
  "cells": [
    {
      "cell_type": "markdown",
      "metadata": {
        "id": "view-in-github",
        "colab_type": "text"
      },
      "source": [
        "<a href=\"https://colab.research.google.com/github/Rahma2015/Stastical-Analysis-of-data-of-ML-project-I-did-to-get-insights/blob/main/Stastical_Analysis.ipynb\" target=\"_parent\"><img src=\"https://colab.research.google.com/assets/colab-badge.svg\" alt=\"Open In Colab\"/></a>"
      ]
    },
    {
      "cell_type": "markdown",
      "source": [
        "#In this notebook I do:\n",
        "\n",
        "some statistical analysis on data I have.\n",
        "\n",
        "The data is spectral data of tomatoes skanned  by spectoscanner and collected across 12 days.\n",
        "\n",
        "Days are: 1,2,3,5,6,7,8,9,10,11,12,13 (total of 12 days ,day 4 not recorded)"
      ],
      "metadata": {
        "id": "GIrSlw4Ay00t"
      }
    },
    {
      "cell_type": "code",
      "execution_count": null,
      "metadata": {
        "id": "yTRgLvBJl3se"
      },
      "outputs": [],
      "source": [
        "import os\n",
        "import numpy as np\n",
        "import pandas as pd\n",
        "import seaborn as sns\n",
        "\n",
        "from sklearn.model_selection import train_test_split\n",
        "from sklearn.preprocessing import Normalizer\n",
        "from sklearn.metrics import accuracy_score\n",
        "\n",
        "from sklearn.neighbors import KNeighborsClassifier\n",
        "from sklearn.model_selection import KFold"
      ]
    },
    {
      "cell_type": "code",
      "source": [
        "!pip install fitter"
      ],
      "metadata": {
        "colab": {
          "base_uri": "https://localhost:8080/"
        },
        "id": "cUfafP900Wt_",
        "outputId": "488990dd-39ff-4167-b476-49e7a0baf250"
      },
      "execution_count": null,
      "outputs": [
        {
          "output_type": "stream",
          "name": "stdout",
          "text": [
            "Collecting fitter\n",
            "  Downloading fitter-1.4.0.tar.gz (27 kB)\n",
            "Collecting easydev\n",
            "  Downloading easydev-0.12.0.tar.gz (47 kB)\n",
            "\u001b[K     |████████████████████████████████| 47 kB 3.7 MB/s \n",
            "\u001b[?25hRequirement already satisfied: numpy in /usr/local/lib/python3.7/dist-packages (from fitter) (1.21.5)\n",
            "Requirement already satisfied: matplotlib in /usr/local/lib/python3.7/dist-packages (from fitter) (3.2.2)\n",
            "Requirement already satisfied: scipy>=0.18 in /usr/local/lib/python3.7/dist-packages (from fitter) (1.4.1)\n",
            "Requirement already satisfied: pandas in /usr/local/lib/python3.7/dist-packages (from fitter) (1.3.5)\n",
            "Requirement already satisfied: click in /usr/local/lib/python3.7/dist-packages (from fitter) (7.1.2)\n",
            "Requirement already satisfied: joblib in /usr/local/lib/python3.7/dist-packages (from fitter) (1.1.0)\n",
            "Collecting colorama\n",
            "  Downloading colorama-0.4.4-py2.py3-none-any.whl (16 kB)\n",
            "Requirement already satisfied: pexpect in /usr/local/lib/python3.7/dist-packages (from easydev->fitter) (4.8.0)\n",
            "Collecting colorlog\n",
            "  Downloading colorlog-6.6.0-py2.py3-none-any.whl (11 kB)\n",
            "Requirement already satisfied: python-dateutil>=2.1 in /usr/local/lib/python3.7/dist-packages (from matplotlib->fitter) (2.8.2)\n",
            "Requirement already satisfied: pyparsing!=2.0.4,!=2.1.2,!=2.1.6,>=2.0.1 in /usr/local/lib/python3.7/dist-packages (from matplotlib->fitter) (3.0.7)\n",
            "Requirement already satisfied: cycler>=0.10 in /usr/local/lib/python3.7/dist-packages (from matplotlib->fitter) (0.11.0)\n",
            "Requirement already satisfied: kiwisolver>=1.0.1 in /usr/local/lib/python3.7/dist-packages (from matplotlib->fitter) (1.4.0)\n",
            "Requirement already satisfied: typing-extensions in /usr/local/lib/python3.7/dist-packages (from kiwisolver>=1.0.1->matplotlib->fitter) (3.10.0.2)\n",
            "Requirement already satisfied: six>=1.5 in /usr/local/lib/python3.7/dist-packages (from python-dateutil>=2.1->matplotlib->fitter) (1.15.0)\n",
            "Requirement already satisfied: pytz>=2017.3 in /usr/local/lib/python3.7/dist-packages (from pandas->fitter) (2018.9)\n",
            "Requirement already satisfied: ptyprocess>=0.5 in /usr/local/lib/python3.7/dist-packages (from pexpect->easydev->fitter) (0.7.0)\n",
            "Building wheels for collected packages: fitter, easydev\n",
            "  Building wheel for fitter (setup.py) ... \u001b[?25l\u001b[?25hdone\n",
            "  Created wheel for fitter: filename=fitter-1.4.0-py3-none-any.whl size=25026 sha256=9fb70ca1ba52049ce49afb51385b5974e9aeb43ef357f2deee81797926baf7fd\n",
            "  Stored in directory: /root/.cache/pip/wheels/e1/98/16/e5263962f94fbfaad79902aa94652516caccc1f1d51509e853\n",
            "  Building wheel for easydev (setup.py) ... \u001b[?25l\u001b[?25hdone\n",
            "  Created wheel for easydev: filename=easydev-0.12.0-py3-none-any.whl size=64232 sha256=0950db8c75832b1a7b9c7451ddf98598014dc8940557a376232ceed364c18e42\n",
            "  Stored in directory: /root/.cache/pip/wheels/82/ab/83/fdfc4017ea44a585b6754752cc5f63f2d0d63fcc1317e7174b\n",
            "Successfully built fitter easydev\n",
            "Installing collected packages: colorlog, colorama, easydev, fitter\n",
            "Successfully installed colorama-0.4.4 colorlog-6.6.0 easydev-0.12.0 fitter-1.4.0\n"
          ]
        }
      ]
    },
    {
      "cell_type": "code",
      "source": [
        "from fitter import Fitter, get_common_distributions, get_distributions\n"
      ],
      "metadata": {
        "id": "0wTMdZZe0Um5"
      },
      "execution_count": null,
      "outputs": []
    },
    {
      "cell_type": "code",
      "source": [
        "import warnings\n",
        "warnings.filterwarnings(\"ignore\")"
      ],
      "metadata": {
        "id": "8C_tWDyJmBYO"
      },
      "execution_count": null,
      "outputs": []
    },
    {
      "cell_type": "code",
      "source": [
        "from google.colab import drive\n",
        "drive.mount('/content/gdrive')"
      ],
      "metadata": {
        "colab": {
          "base_uri": "https://localhost:8080/"
        },
        "id": "wiXtZ0U_nBsK",
        "outputId": "07962324-3039-4126-d6ce-d75cc73a4ee4"
      },
      "execution_count": null,
      "outputs": [
        {
          "output_type": "stream",
          "name": "stdout",
          "text": [
            "Mounted at /content/gdrive\n"
          ]
        }
      ]
    },
    {
      "cell_type": "code",
      "source": [
        "path = \"/content/gdrive/MyDrive/CIE Si-Ware GP - drive /Datasets/Our_dataset/Small Tomatoes_7_3_2022/PSD_S\"\n",
        "files = os.listdir(path)"
      ],
      "metadata": {
        "id": "CFSq_zr1mGCx"
      },
      "execution_count": null,
      "outputs": []
    },
    {
      "cell_type": "code",
      "source": [
        "def read_data(folder_path):\n",
        "  files = os.listdir(folder_path)\n",
        "  files = files[:-2]\n",
        "  data={}\n",
        "  c=0\n",
        "  for filee in files:\n",
        "    f = open(folder_path + '/' + filee, 'r')\n",
        "    x = f.readlines()\n",
        "    x = [x.split() for x in x][1:]\n",
        "    x = np.array(x).T.tolist()\n",
        "    index = [float(i) for i in x[0]] + ['day']\n",
        "    x = [float(i) for i in x[1]]\n",
        "    x.append(int(filee[2:4]))\n",
        "    data[c]=x\n",
        "    c+=1\n",
        "\n",
        "  data_final=pd.DataFrame(data,index=index).T\n",
        "\n",
        "  return data_final"
      ],
      "metadata": {
        "id": "iCATpojRnaWe"
      },
      "execution_count": null,
      "outputs": []
    },
    {
      "cell_type": "code",
      "source": [
        "tomato = read_data(path)\n",
        "tomato"
      ],
      "metadata": {
        "colab": {
          "base_uri": "https://localhost:8080/",
          "height": 488
        },
        "id": "FravyPPDnoZT",
        "outputId": "69c7b1fc-d53c-4f3c-c22e-295590bd40e6"
      },
      "execution_count": null,
      "outputs": [
        {
          "output_type": "execute_result",
          "data": {
            "text/plain": [
              "     2543.4819310710036  2527.786295347872  2512.2831729859363  \\\n",
              "0              0.007901           0.008158            0.008324   \n",
              "1              0.005250           0.005278            0.005323   \n",
              "2              0.005806           0.005992            0.006089   \n",
              "3              0.007348           0.007516            0.007670   \n",
              "4              0.008120           0.008322            0.008415   \n",
              "..                  ...                ...                 ...   \n",
              "233            0.006119           0.006409            0.006485   \n",
              "234            0.004798           0.004992            0.005155   \n",
              "235            0.006534           0.006748            0.006913   \n",
              "236            0.005847           0.006058            0.006202   \n",
              "237            0.005588           0.005739            0.005866   \n",
              "\n",
              "     2496.969055305336  2481.840506901298  2466.8941864601425  \\\n",
              "0             0.008465           0.008634            0.008794   \n",
              "1             0.005446           0.005603            0.005722   \n",
              "2             0.006169           0.006283            0.006388   \n",
              "3             0.007854           0.008013            0.008064   \n",
              "4             0.008482           0.008583            0.008695   \n",
              "..                 ...                ...                 ...   \n",
              "233           0.006421           0.006446            0.006637   \n",
              "234           0.005245           0.005290            0.005353   \n",
              "235           0.007025           0.007110            0.007173   \n",
              "236           0.006244           0.006237            0.006278   \n",
              "237           0.005976           0.006094            0.006220   \n",
              "\n",
              "     2452.126810005941  2437.5351719991263  2423.116164881656  \\\n",
              "0             0.008891            0.008938           0.008994   \n",
              "1             0.005811            0.005898           0.005963   \n",
              "2             0.006439            0.006468           0.006523   \n",
              "3             0.008044            0.008083           0.008224   \n",
              "4             0.008786            0.008876           0.008972   \n",
              "..                 ...                 ...                ...   \n",
              "233           0.006830            0.006871           0.006829   \n",
              "234           0.005461            0.005590           0.005699   \n",
              "235           0.007227            0.007318           0.007473   \n",
              "236           0.006414            0.006594           0.006726   \n",
              "237           0.006314            0.006363           0.006408   \n",
              "\n",
              "     2408.866743124324  ...  1383.644603743925  1378.9866499385419  \\\n",
              "0             0.009081  ...           0.001772            0.001751   \n",
              "1             0.005973  ...           0.001181            0.001114   \n",
              "2             0.006594  ...           0.001308            0.001283   \n",
              "3             0.008376  ...           0.001613            0.001598   \n",
              "4             0.009028  ...           0.001711            0.001651   \n",
              "..                 ...  ...                ...                 ...   \n",
              "233           0.006874  ...           0.001431            0.001391   \n",
              "234           0.005759  ...           0.000980            0.000940   \n",
              "235           0.007635  ...           0.001480            0.001456   \n",
              "236           0.006777  ...           0.001372            0.001405   \n",
              "237           0.006480  ...           0.001200            0.001163   \n",
              "\n",
              "     1374.3599593732647  1369.7642078676763  1365.1990930609813  \\\n",
              "0              0.001730            0.001715            0.001684   \n",
              "1              0.001106            0.001150            0.001171   \n",
              "2              0.001259            0.001253            0.001247   \n",
              "3              0.001563            0.001518            0.001490   \n",
              "4              0.001588            0.001607            0.001672   \n",
              "..                  ...                 ...                 ...   \n",
              "233            0.001379            0.001408            0.001446   \n",
              "234            0.000960            0.001022            0.001055   \n",
              "235            0.001407            0.001351            0.001323   \n",
              "236            0.001396            0.001368            0.001339   \n",
              "237            0.001135            0.001114            0.001089   \n",
              "\n",
              "     1360.6643061718448  1356.1595391283267  1351.6845084337874  \\\n",
              "0              0.001631            0.001582            0.001555   \n",
              "1              0.001136            0.001094            0.001093   \n",
              "2              0.001215            0.001167            0.001137   \n",
              "3              0.001484            0.001472            0.001436   \n",
              "4              0.001691            0.001649            0.001610   \n",
              "..                  ...                 ...                 ...   \n",
              "233            0.001454            0.001415            0.001352   \n",
              "234            0.001012            0.000940            0.000916   \n",
              "235            0.001317            0.001299            0.001263   \n",
              "236            0.001300            0.001250            0.001218   \n",
              "237            0.001054            0.001022            0.001002   \n",
              "\n",
              "     1347.2389104762156   day  \n",
              "0              0.001526   1.0  \n",
              "1              0.001106   1.0  \n",
              "2              0.001138   1.0  \n",
              "3              0.001391   1.0  \n",
              "4              0.001600   1.0  \n",
              "..                  ...   ...  \n",
              "233            0.001300  13.0  \n",
              "234            0.000947  13.0  \n",
              "235            0.001243  13.0  \n",
              "236            0.001218  13.0  \n",
              "237            0.000992  13.0  \n",
              "\n",
              "[238 rows x 145 columns]"
            ],
            "text/html": [
              "\n",
              "  <div id=\"df-98a4b63e-68a6-449a-8281-eb0bedd0f4e7\">\n",
              "    <div class=\"colab-df-container\">\n",
              "      <div>\n",
              "<style scoped>\n",
              "    .dataframe tbody tr th:only-of-type {\n",
              "        vertical-align: middle;\n",
              "    }\n",
              "\n",
              "    .dataframe tbody tr th {\n",
              "        vertical-align: top;\n",
              "    }\n",
              "\n",
              "    .dataframe thead th {\n",
              "        text-align: right;\n",
              "    }\n",
              "</style>\n",
              "<table border=\"1\" class=\"dataframe\">\n",
              "  <thead>\n",
              "    <tr style=\"text-align: right;\">\n",
              "      <th></th>\n",
              "      <th>2543.4819310710036</th>\n",
              "      <th>2527.786295347872</th>\n",
              "      <th>2512.2831729859363</th>\n",
              "      <th>2496.969055305336</th>\n",
              "      <th>2481.840506901298</th>\n",
              "      <th>2466.8941864601425</th>\n",
              "      <th>2452.126810005941</th>\n",
              "      <th>2437.5351719991263</th>\n",
              "      <th>2423.116164881656</th>\n",
              "      <th>2408.866743124324</th>\n",
              "      <th>...</th>\n",
              "      <th>1383.644603743925</th>\n",
              "      <th>1378.9866499385419</th>\n",
              "      <th>1374.3599593732647</th>\n",
              "      <th>1369.7642078676763</th>\n",
              "      <th>1365.1990930609813</th>\n",
              "      <th>1360.6643061718448</th>\n",
              "      <th>1356.1595391283267</th>\n",
              "      <th>1351.6845084337874</th>\n",
              "      <th>1347.2389104762156</th>\n",
              "      <th>day</th>\n",
              "    </tr>\n",
              "  </thead>\n",
              "  <tbody>\n",
              "    <tr>\n",
              "      <th>0</th>\n",
              "      <td>0.007901</td>\n",
              "      <td>0.008158</td>\n",
              "      <td>0.008324</td>\n",
              "      <td>0.008465</td>\n",
              "      <td>0.008634</td>\n",
              "      <td>0.008794</td>\n",
              "      <td>0.008891</td>\n",
              "      <td>0.008938</td>\n",
              "      <td>0.008994</td>\n",
              "      <td>0.009081</td>\n",
              "      <td>...</td>\n",
              "      <td>0.001772</td>\n",
              "      <td>0.001751</td>\n",
              "      <td>0.001730</td>\n",
              "      <td>0.001715</td>\n",
              "      <td>0.001684</td>\n",
              "      <td>0.001631</td>\n",
              "      <td>0.001582</td>\n",
              "      <td>0.001555</td>\n",
              "      <td>0.001526</td>\n",
              "      <td>1.0</td>\n",
              "    </tr>\n",
              "    <tr>\n",
              "      <th>1</th>\n",
              "      <td>0.005250</td>\n",
              "      <td>0.005278</td>\n",
              "      <td>0.005323</td>\n",
              "      <td>0.005446</td>\n",
              "      <td>0.005603</td>\n",
              "      <td>0.005722</td>\n",
              "      <td>0.005811</td>\n",
              "      <td>0.005898</td>\n",
              "      <td>0.005963</td>\n",
              "      <td>0.005973</td>\n",
              "      <td>...</td>\n",
              "      <td>0.001181</td>\n",
              "      <td>0.001114</td>\n",
              "      <td>0.001106</td>\n",
              "      <td>0.001150</td>\n",
              "      <td>0.001171</td>\n",
              "      <td>0.001136</td>\n",
              "      <td>0.001094</td>\n",
              "      <td>0.001093</td>\n",
              "      <td>0.001106</td>\n",
              "      <td>1.0</td>\n",
              "    </tr>\n",
              "    <tr>\n",
              "      <th>2</th>\n",
              "      <td>0.005806</td>\n",
              "      <td>0.005992</td>\n",
              "      <td>0.006089</td>\n",
              "      <td>0.006169</td>\n",
              "      <td>0.006283</td>\n",
              "      <td>0.006388</td>\n",
              "      <td>0.006439</td>\n",
              "      <td>0.006468</td>\n",
              "      <td>0.006523</td>\n",
              "      <td>0.006594</td>\n",
              "      <td>...</td>\n",
              "      <td>0.001308</td>\n",
              "      <td>0.001283</td>\n",
              "      <td>0.001259</td>\n",
              "      <td>0.001253</td>\n",
              "      <td>0.001247</td>\n",
              "      <td>0.001215</td>\n",
              "      <td>0.001167</td>\n",
              "      <td>0.001137</td>\n",
              "      <td>0.001138</td>\n",
              "      <td>1.0</td>\n",
              "    </tr>\n",
              "    <tr>\n",
              "      <th>3</th>\n",
              "      <td>0.007348</td>\n",
              "      <td>0.007516</td>\n",
              "      <td>0.007670</td>\n",
              "      <td>0.007854</td>\n",
              "      <td>0.008013</td>\n",
              "      <td>0.008064</td>\n",
              "      <td>0.008044</td>\n",
              "      <td>0.008083</td>\n",
              "      <td>0.008224</td>\n",
              "      <td>0.008376</td>\n",
              "      <td>...</td>\n",
              "      <td>0.001613</td>\n",
              "      <td>0.001598</td>\n",
              "      <td>0.001563</td>\n",
              "      <td>0.001518</td>\n",
              "      <td>0.001490</td>\n",
              "      <td>0.001484</td>\n",
              "      <td>0.001472</td>\n",
              "      <td>0.001436</td>\n",
              "      <td>0.001391</td>\n",
              "      <td>1.0</td>\n",
              "    </tr>\n",
              "    <tr>\n",
              "      <th>4</th>\n",
              "      <td>0.008120</td>\n",
              "      <td>0.008322</td>\n",
              "      <td>0.008415</td>\n",
              "      <td>0.008482</td>\n",
              "      <td>0.008583</td>\n",
              "      <td>0.008695</td>\n",
              "      <td>0.008786</td>\n",
              "      <td>0.008876</td>\n",
              "      <td>0.008972</td>\n",
              "      <td>0.009028</td>\n",
              "      <td>...</td>\n",
              "      <td>0.001711</td>\n",
              "      <td>0.001651</td>\n",
              "      <td>0.001588</td>\n",
              "      <td>0.001607</td>\n",
              "      <td>0.001672</td>\n",
              "      <td>0.001691</td>\n",
              "      <td>0.001649</td>\n",
              "      <td>0.001610</td>\n",
              "      <td>0.001600</td>\n",
              "      <td>1.0</td>\n",
              "    </tr>\n",
              "    <tr>\n",
              "      <th>...</th>\n",
              "      <td>...</td>\n",
              "      <td>...</td>\n",
              "      <td>...</td>\n",
              "      <td>...</td>\n",
              "      <td>...</td>\n",
              "      <td>...</td>\n",
              "      <td>...</td>\n",
              "      <td>...</td>\n",
              "      <td>...</td>\n",
              "      <td>...</td>\n",
              "      <td>...</td>\n",
              "      <td>...</td>\n",
              "      <td>...</td>\n",
              "      <td>...</td>\n",
              "      <td>...</td>\n",
              "      <td>...</td>\n",
              "      <td>...</td>\n",
              "      <td>...</td>\n",
              "      <td>...</td>\n",
              "      <td>...</td>\n",
              "      <td>...</td>\n",
              "    </tr>\n",
              "    <tr>\n",
              "      <th>233</th>\n",
              "      <td>0.006119</td>\n",
              "      <td>0.006409</td>\n",
              "      <td>0.006485</td>\n",
              "      <td>0.006421</td>\n",
              "      <td>0.006446</td>\n",
              "      <td>0.006637</td>\n",
              "      <td>0.006830</td>\n",
              "      <td>0.006871</td>\n",
              "      <td>0.006829</td>\n",
              "      <td>0.006874</td>\n",
              "      <td>...</td>\n",
              "      <td>0.001431</td>\n",
              "      <td>0.001391</td>\n",
              "      <td>0.001379</td>\n",
              "      <td>0.001408</td>\n",
              "      <td>0.001446</td>\n",
              "      <td>0.001454</td>\n",
              "      <td>0.001415</td>\n",
              "      <td>0.001352</td>\n",
              "      <td>0.001300</td>\n",
              "      <td>13.0</td>\n",
              "    </tr>\n",
              "    <tr>\n",
              "      <th>234</th>\n",
              "      <td>0.004798</td>\n",
              "      <td>0.004992</td>\n",
              "      <td>0.005155</td>\n",
              "      <td>0.005245</td>\n",
              "      <td>0.005290</td>\n",
              "      <td>0.005353</td>\n",
              "      <td>0.005461</td>\n",
              "      <td>0.005590</td>\n",
              "      <td>0.005699</td>\n",
              "      <td>0.005759</td>\n",
              "      <td>...</td>\n",
              "      <td>0.000980</td>\n",
              "      <td>0.000940</td>\n",
              "      <td>0.000960</td>\n",
              "      <td>0.001022</td>\n",
              "      <td>0.001055</td>\n",
              "      <td>0.001012</td>\n",
              "      <td>0.000940</td>\n",
              "      <td>0.000916</td>\n",
              "      <td>0.000947</td>\n",
              "      <td>13.0</td>\n",
              "    </tr>\n",
              "    <tr>\n",
              "      <th>235</th>\n",
              "      <td>0.006534</td>\n",
              "      <td>0.006748</td>\n",
              "      <td>0.006913</td>\n",
              "      <td>0.007025</td>\n",
              "      <td>0.007110</td>\n",
              "      <td>0.007173</td>\n",
              "      <td>0.007227</td>\n",
              "      <td>0.007318</td>\n",
              "      <td>0.007473</td>\n",
              "      <td>0.007635</td>\n",
              "      <td>...</td>\n",
              "      <td>0.001480</td>\n",
              "      <td>0.001456</td>\n",
              "      <td>0.001407</td>\n",
              "      <td>0.001351</td>\n",
              "      <td>0.001323</td>\n",
              "      <td>0.001317</td>\n",
              "      <td>0.001299</td>\n",
              "      <td>0.001263</td>\n",
              "      <td>0.001243</td>\n",
              "      <td>13.0</td>\n",
              "    </tr>\n",
              "    <tr>\n",
              "      <th>236</th>\n",
              "      <td>0.005847</td>\n",
              "      <td>0.006058</td>\n",
              "      <td>0.006202</td>\n",
              "      <td>0.006244</td>\n",
              "      <td>0.006237</td>\n",
              "      <td>0.006278</td>\n",
              "      <td>0.006414</td>\n",
              "      <td>0.006594</td>\n",
              "      <td>0.006726</td>\n",
              "      <td>0.006777</td>\n",
              "      <td>...</td>\n",
              "      <td>0.001372</td>\n",
              "      <td>0.001405</td>\n",
              "      <td>0.001396</td>\n",
              "      <td>0.001368</td>\n",
              "      <td>0.001339</td>\n",
              "      <td>0.001300</td>\n",
              "      <td>0.001250</td>\n",
              "      <td>0.001218</td>\n",
              "      <td>0.001218</td>\n",
              "      <td>13.0</td>\n",
              "    </tr>\n",
              "    <tr>\n",
              "      <th>237</th>\n",
              "      <td>0.005588</td>\n",
              "      <td>0.005739</td>\n",
              "      <td>0.005866</td>\n",
              "      <td>0.005976</td>\n",
              "      <td>0.006094</td>\n",
              "      <td>0.006220</td>\n",
              "      <td>0.006314</td>\n",
              "      <td>0.006363</td>\n",
              "      <td>0.006408</td>\n",
              "      <td>0.006480</td>\n",
              "      <td>...</td>\n",
              "      <td>0.001200</td>\n",
              "      <td>0.001163</td>\n",
              "      <td>0.001135</td>\n",
              "      <td>0.001114</td>\n",
              "      <td>0.001089</td>\n",
              "      <td>0.001054</td>\n",
              "      <td>0.001022</td>\n",
              "      <td>0.001002</td>\n",
              "      <td>0.000992</td>\n",
              "      <td>13.0</td>\n",
              "    </tr>\n",
              "  </tbody>\n",
              "</table>\n",
              "<p>238 rows × 145 columns</p>\n",
              "</div>\n",
              "      <button class=\"colab-df-convert\" onclick=\"convertToInteractive('df-98a4b63e-68a6-449a-8281-eb0bedd0f4e7')\"\n",
              "              title=\"Convert this dataframe to an interactive table.\"\n",
              "              style=\"display:none;\">\n",
              "        \n",
              "  <svg xmlns=\"http://www.w3.org/2000/svg\" height=\"24px\"viewBox=\"0 0 24 24\"\n",
              "       width=\"24px\">\n",
              "    <path d=\"M0 0h24v24H0V0z\" fill=\"none\"/>\n",
              "    <path d=\"M18.56 5.44l.94 2.06.94-2.06 2.06-.94-2.06-.94-.94-2.06-.94 2.06-2.06.94zm-11 1L8.5 8.5l.94-2.06 2.06-.94-2.06-.94L8.5 2.5l-.94 2.06-2.06.94zm10 10l.94 2.06.94-2.06 2.06-.94-2.06-.94-.94-2.06-.94 2.06-2.06.94z\"/><path d=\"M17.41 7.96l-1.37-1.37c-.4-.4-.92-.59-1.43-.59-.52 0-1.04.2-1.43.59L10.3 9.45l-7.72 7.72c-.78.78-.78 2.05 0 2.83L4 21.41c.39.39.9.59 1.41.59.51 0 1.02-.2 1.41-.59l7.78-7.78 2.81-2.81c.8-.78.8-2.07 0-2.86zM5.41 20L4 18.59l7.72-7.72 1.47 1.35L5.41 20z\"/>\n",
              "  </svg>\n",
              "      </button>\n",
              "      \n",
              "  <style>\n",
              "    .colab-df-container {\n",
              "      display:flex;\n",
              "      flex-wrap:wrap;\n",
              "      gap: 12px;\n",
              "    }\n",
              "\n",
              "    .colab-df-convert {\n",
              "      background-color: #E8F0FE;\n",
              "      border: none;\n",
              "      border-radius: 50%;\n",
              "      cursor: pointer;\n",
              "      display: none;\n",
              "      fill: #1967D2;\n",
              "      height: 32px;\n",
              "      padding: 0 0 0 0;\n",
              "      width: 32px;\n",
              "    }\n",
              "\n",
              "    .colab-df-convert:hover {\n",
              "      background-color: #E2EBFA;\n",
              "      box-shadow: 0px 1px 2px rgba(60, 64, 67, 0.3), 0px 1px 3px 1px rgba(60, 64, 67, 0.15);\n",
              "      fill: #174EA6;\n",
              "    }\n",
              "\n",
              "    [theme=dark] .colab-df-convert {\n",
              "      background-color: #3B4455;\n",
              "      fill: #D2E3FC;\n",
              "    }\n",
              "\n",
              "    [theme=dark] .colab-df-convert:hover {\n",
              "      background-color: #434B5C;\n",
              "      box-shadow: 0px 1px 3px 1px rgba(0, 0, 0, 0.15);\n",
              "      filter: drop-shadow(0px 1px 2px rgba(0, 0, 0, 0.3));\n",
              "      fill: #FFFFFF;\n",
              "    }\n",
              "  </style>\n",
              "\n",
              "      <script>\n",
              "        const buttonEl =\n",
              "          document.querySelector('#df-98a4b63e-68a6-449a-8281-eb0bedd0f4e7 button.colab-df-convert');\n",
              "        buttonEl.style.display =\n",
              "          google.colab.kernel.accessAllowed ? 'block' : 'none';\n",
              "\n",
              "        async function convertToInteractive(key) {\n",
              "          const element = document.querySelector('#df-98a4b63e-68a6-449a-8281-eb0bedd0f4e7');\n",
              "          const dataTable =\n",
              "            await google.colab.kernel.invokeFunction('convertToInteractive',\n",
              "                                                     [key], {});\n",
              "          if (!dataTable) return;\n",
              "\n",
              "          const docLinkHtml = 'Like what you see? Visit the ' +\n",
              "            '<a target=\"_blank\" href=https://colab.research.google.com/notebooks/data_table.ipynb>data table notebook</a>'\n",
              "            + ' to learn more about interactive tables.';\n",
              "          element.innerHTML = '';\n",
              "          dataTable['output_type'] = 'display_data';\n",
              "          await google.colab.output.renderOutput(dataTable, element);\n",
              "          const docLink = document.createElement('div');\n",
              "          docLink.innerHTML = docLinkHtml;\n",
              "          element.appendChild(docLink);\n",
              "        }\n",
              "      </script>\n",
              "    </div>\n",
              "  </div>\n",
              "  "
            ]
          },
          "metadata": {},
          "execution_count": 9
        }
      ]
    },
    {
      "cell_type": "code",
      "source": [
        "df_1 = tomato.iloc[:81,:]\n",
        "df_2 = tomato.iloc[81:161,:]\n",
        "df_3 = tomato.iloc[161:241,:]"
      ],
      "metadata": {
        "id": "WgeH7nM5sgC5"
      },
      "execution_count": null,
      "outputs": []
    },
    {
      "cell_type": "code",
      "source": [
        "tomato.info()"
      ],
      "metadata": {
        "colab": {
          "base_uri": "https://localhost:8080/"
        },
        "id": "5Q1e7KQczj2V",
        "outputId": "73b44439-9c1e-474d-87e1-248c5990eaa0"
      },
      "execution_count": null,
      "outputs": [
        {
          "output_type": "stream",
          "name": "stdout",
          "text": [
            "<class 'pandas.core.frame.DataFrame'>\n",
            "Int64Index: 238 entries, 0 to 237\n",
            "Columns: 145 entries, 2543.4819310710036 to day\n",
            "dtypes: float64(145)\n",
            "memory usage: 271.5 KB\n"
          ]
        }
      ]
    },
    {
      "cell_type": "markdown",
      "source": [
        "#Fitter library:"
      ],
      "metadata": {
        "id": "EyVn6fp9BBrY"
      }
    },
    {
      "cell_type": "markdown",
      "source": [
        "fitter package provides a simple class to identify the distribution from which\n",
        "a data samples is generated from. It uses 80 distributions from Scipy and allows you to plot the results to check what is the most probable distribution and the best parameters."
      ],
      "metadata": {
        "id": "bWpSV7D3AvxD"
      }
    },
    {
      "cell_type": "markdown",
      "source": [
        "fitter library documentation:\n",
        "https://fitter.readthedocs.io/_/downloads/en/latest/pdf/"
      ],
      "metadata": {
        "id": "xUZrm1BJ49YU"
      }
    },
    {
      "cell_type": "markdown",
      "source": [
        "What are the distributions available ?"
      ],
      "metadata": {
        "id": "VOxnrQTtIs1S"
      }
    },
    {
      "cell_type": "code",
      "source": [
        "from fitter import get_distributions\n",
        "get_distributions()"
      ],
      "metadata": {
        "colab": {
          "base_uri": "https://localhost:8080/"
        },
        "id": "jFg5f8a0Isbh",
        "outputId": "029f60e2-60e1-4424-d9e0-1bc2cb70c3b2"
      },
      "execution_count": null,
      "outputs": [
        {
          "output_type": "execute_result",
          "data": {
            "text/plain": [
              "['alpha',\n",
              " 'anglit',\n",
              " 'arcsine',\n",
              " 'argus',\n",
              " 'beta',\n",
              " 'betaprime',\n",
              " 'bradford',\n",
              " 'burr',\n",
              " 'burr12',\n",
              " 'cauchy',\n",
              " 'chi',\n",
              " 'chi2',\n",
              " 'cosine',\n",
              " 'crystalball',\n",
              " 'dgamma',\n",
              " 'dweibull',\n",
              " 'erlang',\n",
              " 'expon',\n",
              " 'exponnorm',\n",
              " 'exponpow',\n",
              " 'exponweib',\n",
              " 'f',\n",
              " 'fatiguelife',\n",
              " 'fisk',\n",
              " 'foldcauchy',\n",
              " 'foldnorm',\n",
              " 'frechet_l',\n",
              " 'frechet_r',\n",
              " 'gamma',\n",
              " 'gausshyper',\n",
              " 'genexpon',\n",
              " 'genextreme',\n",
              " 'gengamma',\n",
              " 'genhalflogistic',\n",
              " 'geninvgauss',\n",
              " 'genlogistic',\n",
              " 'gennorm',\n",
              " 'genpareto',\n",
              " 'gilbrat',\n",
              " 'gompertz',\n",
              " 'gumbel_l',\n",
              " 'gumbel_r',\n",
              " 'halfcauchy',\n",
              " 'halfgennorm',\n",
              " 'halflogistic',\n",
              " 'halfnorm',\n",
              " 'hypsecant',\n",
              " 'invgamma',\n",
              " 'invgauss',\n",
              " 'invweibull',\n",
              " 'johnsonsb',\n",
              " 'johnsonsu',\n",
              " 'kappa3',\n",
              " 'kappa4',\n",
              " 'ksone',\n",
              " 'kstwobign',\n",
              " 'laplace',\n",
              " 'levy',\n",
              " 'levy_l',\n",
              " 'levy_stable',\n",
              " 'loggamma',\n",
              " 'logistic',\n",
              " 'loglaplace',\n",
              " 'lognorm',\n",
              " 'loguniform',\n",
              " 'lomax',\n",
              " 'maxwell',\n",
              " 'mielke',\n",
              " 'moyal',\n",
              " 'nakagami',\n",
              " 'ncf',\n",
              " 'nct',\n",
              " 'ncx2',\n",
              " 'norm',\n",
              " 'norminvgauss',\n",
              " 'pareto',\n",
              " 'pearson3',\n",
              " 'powerlaw',\n",
              " 'powerlognorm',\n",
              " 'powernorm',\n",
              " 'rayleigh',\n",
              " 'rdist',\n",
              " 'recipinvgauss',\n",
              " 'reciprocal',\n",
              " 'rice',\n",
              " 'rv_continuous',\n",
              " 'rv_histogram',\n",
              " 'semicircular',\n",
              " 'skewnorm',\n",
              " 't',\n",
              " 'trapz',\n",
              " 'triang',\n",
              " 'truncexpon',\n",
              " 'truncnorm',\n",
              " 'tukeylambda',\n",
              " 'uniform',\n",
              " 'vonmises',\n",
              " 'vonmises_line',\n",
              " 'wald',\n",
              " 'weibull_max',\n",
              " 'weibull_min',\n",
              " 'wrapcauchy']"
            ]
          },
          "metadata": {},
          "execution_count": 23
        }
      ]
    },
    {
      "cell_type": "code",
      "source": [
        "#common distrubution:\n",
        "from fitter import get_common_distributions\n",
        "get_common_distributions()"
      ],
      "metadata": {
        "colab": {
          "base_uri": "https://localhost:8080/"
        },
        "id": "gJpjKUW6I4dz",
        "outputId": "800ae722-49aa-447c-8bca-79882e50db84"
      },
      "execution_count": null,
      "outputs": [
        {
          "output_type": "execute_result",
          "data": {
            "text/plain": [
              "['cauchy',\n",
              " 'chi2',\n",
              " 'expon',\n",
              " 'exponpow',\n",
              " 'gamma',\n",
              " 'lognorm',\n",
              " 'norm',\n",
              " 'powerlaw',\n",
              " 'rayleigh',\n",
              " 'uniform']"
            ]
          },
          "metadata": {},
          "execution_count": 26
        }
      ]
    },
    {
      "cell_type": "markdown",
      "source": [
        "#Important Note: It takes long time"
      ],
      "metadata": {
        "id": "ucj6wnOr4Aoo"
      }
    },
    {
      "cell_type": "code",
      "source": [
        "from fitter import Fitter\n",
        "f = Fitter(df_1)\n",
        "f.fit()\n"
      ],
      "metadata": {
        "colab": {
          "base_uri": "https://localhost:8080/"
        },
        "id": "Yh14S_va2Upz",
        "outputId": "87e44f6d-ec7e-4e0a-d08e-6886e12b2471"
      },
      "execution_count": null,
      "outputs": [
        {
          "output_type": "stream",
          "name": "stderr",
          "text": [
            "WARNING:root:SKIPPED burr distribution (taking more than 30 seconds)\n",
            "WARNING:root:SKIPPED burr12 distribution (taking more than 30 seconds)\n",
            "WARNING:root:SKIPPED fisk distribution (taking more than 30 seconds)\n",
            "WARNING:root:SKIPPED gausshyper distribution (taking more than 30 seconds)\n",
            "WARNING:root:SKIPPED geninvgauss distribution (taking more than 30 seconds)\n",
            "WARNING:root:SKIPPED johnsonsu distribution (taking more than 30 seconds)\n",
            "WARNING:root:SKIPPED kappa4 distribution (taking more than 30 seconds)\n",
            "WARNING:root:SKIPPED ksone distribution (taking more than 30 seconds)\n",
            "WARNING:root:SKIPPED levy_stable distribution (taking more than 30 seconds)\n",
            "WARNING:root:SKIPPED loggamma distribution (taking more than 30 seconds)\n",
            "WARNING:root:SKIPPED mielke distribution (taking more than 30 seconds)\n",
            "WARNING:root:SKIPPED nakagami distribution (taking more than 30 seconds)\n",
            "WARNING:root:SKIPPED ncf distribution (taking more than 30 seconds)\n",
            "WARNING:root:SKIPPED nct distribution (taking more than 30 seconds)\n",
            "WARNING:root:SKIPPED ncx2 distribution (taking more than 30 seconds)\n",
            "WARNING:root:SKIPPED powerlognorm distribution (taking more than 30 seconds)\n",
            "WARNING:root:SKIPPED recipinvgauss distribution (taking more than 30 seconds)\n",
            "WARNING:root:SKIPPED rv_continuous distribution (taking more than 30 seconds)\n",
            "WARNING:root:SKIPPED rv_histogram distribution (taking more than 30 seconds)\n",
            "WARNING:root:SKIPPED tukeylambda distribution (taking more than 30 seconds)\n"
          ]
        }
      ]
    },
    {
      "cell_type": "markdown",
      "source": [
        "Now, without any knowledge about the distribution or its parameter, what is the distribution that fits the data best ? Scipy has 80 distributions and the Fitter class will scan all of them, call the fit function for you, ignoring those that fail or run forever and finally give you a summary of the best distributions in the sense of sum of the square errors. The best is to give an example:"
      ],
      "metadata": {
        "id": "gp75jXNsB8mG"
      }
    },
    {
      "cell_type": "code",
      "source": [
        "f.summary()"
      ],
      "metadata": {
        "id": "MXJzQmsf3Wbo",
        "outputId": "5b22dc84-ae22-42d6-d9aa-1151fb8c5f99",
        "colab": {
          "base_uri": "https://localhost:8080/",
          "height": 454
        }
      },
      "execution_count": null,
      "outputs": [
        {
          "output_type": "execute_result",
          "data": {
            "text/plain": [
              "              sumsquare_error           aic           bic  kl_div\n",
              "halflogistic         3.978238  28787.176448 -93827.846827     inf\n",
              "gompertz            20.800269  20371.799677 -74390.754630     inf\n",
              "exponnorm           22.280423  24577.701028 -73583.374550     inf\n",
              "expon               22.500084  24511.255289 -73477.519470     inf\n",
              "genexpon            22.502970  24520.273712 -73447.899537     inf"
            ],
            "text/html": [
              "\n",
              "  <div id=\"df-8cf261f3-358e-4c69-b0e8-9849331e4dd9\">\n",
              "    <div class=\"colab-df-container\">\n",
              "      <div>\n",
              "<style scoped>\n",
              "    .dataframe tbody tr th:only-of-type {\n",
              "        vertical-align: middle;\n",
              "    }\n",
              "\n",
              "    .dataframe tbody tr th {\n",
              "        vertical-align: top;\n",
              "    }\n",
              "\n",
              "    .dataframe thead th {\n",
              "        text-align: right;\n",
              "    }\n",
              "</style>\n",
              "<table border=\"1\" class=\"dataframe\">\n",
              "  <thead>\n",
              "    <tr style=\"text-align: right;\">\n",
              "      <th></th>\n",
              "      <th>sumsquare_error</th>\n",
              "      <th>aic</th>\n",
              "      <th>bic</th>\n",
              "      <th>kl_div</th>\n",
              "    </tr>\n",
              "  </thead>\n",
              "  <tbody>\n",
              "    <tr>\n",
              "      <th>halflogistic</th>\n",
              "      <td>3.978238</td>\n",
              "      <td>28787.176448</td>\n",
              "      <td>-93827.846827</td>\n",
              "      <td>inf</td>\n",
              "    </tr>\n",
              "    <tr>\n",
              "      <th>gompertz</th>\n",
              "      <td>20.800269</td>\n",
              "      <td>20371.799677</td>\n",
              "      <td>-74390.754630</td>\n",
              "      <td>inf</td>\n",
              "    </tr>\n",
              "    <tr>\n",
              "      <th>exponnorm</th>\n",
              "      <td>22.280423</td>\n",
              "      <td>24577.701028</td>\n",
              "      <td>-73583.374550</td>\n",
              "      <td>inf</td>\n",
              "    </tr>\n",
              "    <tr>\n",
              "      <th>expon</th>\n",
              "      <td>22.500084</td>\n",
              "      <td>24511.255289</td>\n",
              "      <td>-73477.519470</td>\n",
              "      <td>inf</td>\n",
              "    </tr>\n",
              "    <tr>\n",
              "      <th>genexpon</th>\n",
              "      <td>22.502970</td>\n",
              "      <td>24520.273712</td>\n",
              "      <td>-73447.899537</td>\n",
              "      <td>inf</td>\n",
              "    </tr>\n",
              "  </tbody>\n",
              "</table>\n",
              "</div>\n",
              "      <button class=\"colab-df-convert\" onclick=\"convertToInteractive('df-8cf261f3-358e-4c69-b0e8-9849331e4dd9')\"\n",
              "              title=\"Convert this dataframe to an interactive table.\"\n",
              "              style=\"display:none;\">\n",
              "        \n",
              "  <svg xmlns=\"http://www.w3.org/2000/svg\" height=\"24px\"viewBox=\"0 0 24 24\"\n",
              "       width=\"24px\">\n",
              "    <path d=\"M0 0h24v24H0V0z\" fill=\"none\"/>\n",
              "    <path d=\"M18.56 5.44l.94 2.06.94-2.06 2.06-.94-2.06-.94-.94-2.06-.94 2.06-2.06.94zm-11 1L8.5 8.5l.94-2.06 2.06-.94-2.06-.94L8.5 2.5l-.94 2.06-2.06.94zm10 10l.94 2.06.94-2.06 2.06-.94-2.06-.94-.94-2.06-.94 2.06-2.06.94z\"/><path d=\"M17.41 7.96l-1.37-1.37c-.4-.4-.92-.59-1.43-.59-.52 0-1.04.2-1.43.59L10.3 9.45l-7.72 7.72c-.78.78-.78 2.05 0 2.83L4 21.41c.39.39.9.59 1.41.59.51 0 1.02-.2 1.41-.59l7.78-7.78 2.81-2.81c.8-.78.8-2.07 0-2.86zM5.41 20L4 18.59l7.72-7.72 1.47 1.35L5.41 20z\"/>\n",
              "  </svg>\n",
              "      </button>\n",
              "      \n",
              "  <style>\n",
              "    .colab-df-container {\n",
              "      display:flex;\n",
              "      flex-wrap:wrap;\n",
              "      gap: 12px;\n",
              "    }\n",
              "\n",
              "    .colab-df-convert {\n",
              "      background-color: #E8F0FE;\n",
              "      border: none;\n",
              "      border-radius: 50%;\n",
              "      cursor: pointer;\n",
              "      display: none;\n",
              "      fill: #1967D2;\n",
              "      height: 32px;\n",
              "      padding: 0 0 0 0;\n",
              "      width: 32px;\n",
              "    }\n",
              "\n",
              "    .colab-df-convert:hover {\n",
              "      background-color: #E2EBFA;\n",
              "      box-shadow: 0px 1px 2px rgba(60, 64, 67, 0.3), 0px 1px 3px 1px rgba(60, 64, 67, 0.15);\n",
              "      fill: #174EA6;\n",
              "    }\n",
              "\n",
              "    [theme=dark] .colab-df-convert {\n",
              "      background-color: #3B4455;\n",
              "      fill: #D2E3FC;\n",
              "    }\n",
              "\n",
              "    [theme=dark] .colab-df-convert:hover {\n",
              "      background-color: #434B5C;\n",
              "      box-shadow: 0px 1px 3px 1px rgba(0, 0, 0, 0.15);\n",
              "      filter: drop-shadow(0px 1px 2px rgba(0, 0, 0, 0.3));\n",
              "      fill: #FFFFFF;\n",
              "    }\n",
              "  </style>\n",
              "\n",
              "      <script>\n",
              "        const buttonEl =\n",
              "          document.querySelector('#df-8cf261f3-358e-4c69-b0e8-9849331e4dd9 button.colab-df-convert');\n",
              "        buttonEl.style.display =\n",
              "          google.colab.kernel.accessAllowed ? 'block' : 'none';\n",
              "\n",
              "        async function convertToInteractive(key) {\n",
              "          const element = document.querySelector('#df-8cf261f3-358e-4c69-b0e8-9849331e4dd9');\n",
              "          const dataTable =\n",
              "            await google.colab.kernel.invokeFunction('convertToInteractive',\n",
              "                                                     [key], {});\n",
              "          if (!dataTable) return;\n",
              "\n",
              "          const docLinkHtml = 'Like what you see? Visit the ' +\n",
              "            '<a target=\"_blank\" href=https://colab.research.google.com/notebooks/data_table.ipynb>data table notebook</a>'\n",
              "            + ' to learn more about interactive tables.';\n",
              "          element.innerHTML = '';\n",
              "          dataTable['output_type'] = 'display_data';\n",
              "          await google.colab.output.renderOutput(dataTable, element);\n",
              "          const docLink = document.createElement('div');\n",
              "          docLink.innerHTML = docLinkHtml;\n",
              "          element.appendChild(docLink);\n",
              "        }\n",
              "      </script>\n",
              "    </div>\n",
              "  </div>\n",
              "  "
            ]
          },
          "metadata": {},
          "execution_count": 21
        },
        {
          "output_type": "display_data",
          "data": {
            "text/plain": [
              "<Figure size 432x288 with 1 Axes>"
            ],
            "image/png": "[encoded data removed]"
          },
          "metadata": {
            "needs_background": "light"
          }
        }
      ]
    },
    {
      "cell_type": "code",
      "source": [
        "f.get_best(method='sumsquare_error')"
      ],
      "metadata": {
        "colab": {
          "base_uri": "https://localhost:8080/"
        },
        "id": "icFxNrguIikj",
        "outputId": "409dc7ad-3802-4339-c33c-e39bd47bcee8"
      },
      "execution_count": null,
      "outputs": [
        {
          "output_type": "execute_result",
          "data": {
            "text/plain": [
              "{'halflogistic': {'loc': 0.0008918877972413004, 'scale': 0.020198082753732624}}"
            ]
          },
          "metadata": {},
          "execution_count": 22
        }
      ]
    },
    {
      "cell_type": "markdown",
      "source": [
        "It founds it follows the most distribution it follow is:\n",
        "\n",
        "Half-logostic distribution\n",
        "\n",
        "https://en.wikipedia.org/wiki/Half-logistic_distribution"
      ],
      "metadata": {
        "id": "UTcZnnOawfu_"
      }
    },
    {
      "cell_type": "code",
      "source": [
        "#Second set of data (days)\n",
        "f2 = Fitter(df_2)\n",
        "f2.fit()\n"
      ],
      "metadata": {
        "colab": {
          "base_uri": "https://localhost:8080/"
        },
        "id": "MQDwGWuKCO7M",
        "outputId": "efac75e0-94eb-4857-f152-1c83a8a16928"
      },
      "execution_count": null,
      "outputs": [
        {
          "output_type": "stream",
          "name": "stderr",
          "text": [
            "WARNING:root:SKIPPED burr distribution (taking more than 30 seconds)\n",
            "WARNING:root:SKIPPED fisk distribution (taking more than 30 seconds)\n",
            "WARNING:root:SKIPPED gausshyper distribution (taking more than 30 seconds)\n",
            "WARNING:root:SKIPPED kappa4 distribution (taking more than 30 seconds)\n",
            "WARNING:root:SKIPPED ksone distribution (taking more than 30 seconds)\n",
            "WARNING:root:SKIPPED levy_stable distribution (taking more than 30 seconds)\n",
            "WARNING:root:SKIPPED mielke distribution (taking more than 30 seconds)\n",
            "WARNING:root:SKIPPED ncf distribution (taking more than 30 seconds)\n",
            "WARNING:root:SKIPPED nct distribution (taking more than 30 seconds)\n",
            "WARNING:root:SKIPPED ncx2 distribution (taking more than 30 seconds)\n",
            "WARNING:root:SKIPPED rv_continuous distribution (taking more than 30 seconds)\n",
            "WARNING:root:SKIPPED rv_histogram distribution (taking more than 30 seconds)\n",
            "WARNING:root:SKIPPED recipinvgauss distribution (taking more than 30 seconds)\n",
            "WARNING:root:SKIPPED truncnorm distribution (taking more than 30 seconds)\n",
            "WARNING:root:SKIPPED tukeylambda distribution (taking more than 30 seconds)\n",
            "WARNING:root:SKIPPED vonmises distribution (taking more than 30 seconds)\n"
          ]
        }
      ]
    },
    {
      "cell_type": "code",
      "source": [
        "f2.summary()"
      ],
      "metadata": {
        "colab": {
          "base_uri": "https://localhost:8080/",
          "height": 454
        },
        "id": "3-X6YQatE0mm",
        "outputId": "c588b5e1-fa2d-414d-b4ef-c32a4a3e3a22"
      },
      "execution_count": null,
      "outputs": [
        {
          "output_type": "execute_result",
          "data": {
            "text/plain": [
              "                 sumsquare_error           aic           bic  kl_div\n",
              "exponnorm               8.261776  17357.677122 -84038.525262     inf\n",
              "expon                   8.397722  17302.266412 -83858.560775     inf\n",
              "genexpon                8.397750  17308.214853 -83830.446488     inf\n",
              "genhalflogistic         8.788854  18523.262937 -83321.125269     inf\n",
              "halflogistic            8.791795  18519.514731 -83326.604038     inf"
            ],
            "text/html": [
              "\n",
              "  <div id=\"df-b5e83890-0ae9-469a-8f20-d5a8b0554664\">\n",
              "    <div class=\"colab-df-container\">\n",
              "      <div>\n",
              "<style scoped>\n",
              "    .dataframe tbody tr th:only-of-type {\n",
              "        vertical-align: middle;\n",
              "    }\n",
              "\n",
              "    .dataframe tbody tr th {\n",
              "        vertical-align: top;\n",
              "    }\n",
              "\n",
              "    .dataframe thead th {\n",
              "        text-align: right;\n",
              "    }\n",
              "</style>\n",
              "<table border=\"1\" class=\"dataframe\">\n",
              "  <thead>\n",
              "    <tr style=\"text-align: right;\">\n",
              "      <th></th>\n",
              "      <th>sumsquare_error</th>\n",
              "      <th>aic</th>\n",
              "      <th>bic</th>\n",
              "      <th>kl_div</th>\n",
              "    </tr>\n",
              "  </thead>\n",
              "  <tbody>\n",
              "    <tr>\n",
              "      <th>exponnorm</th>\n",
              "      <td>8.261776</td>\n",
              "      <td>17357.677122</td>\n",
              "      <td>-84038.525262</td>\n",
              "      <td>inf</td>\n",
              "    </tr>\n",
              "    <tr>\n",
              "      <th>expon</th>\n",
              "      <td>8.397722</td>\n",
              "      <td>17302.266412</td>\n",
              "      <td>-83858.560775</td>\n",
              "      <td>inf</td>\n",
              "    </tr>\n",
              "    <tr>\n",
              "      <th>genexpon</th>\n",
              "      <td>8.397750</td>\n",
              "      <td>17308.214853</td>\n",
              "      <td>-83830.446488</td>\n",
              "      <td>inf</td>\n",
              "    </tr>\n",
              "    <tr>\n",
              "      <th>genhalflogistic</th>\n",
              "      <td>8.788854</td>\n",
              "      <td>18523.262937</td>\n",
              "      <td>-83321.125269</td>\n",
              "      <td>inf</td>\n",
              "    </tr>\n",
              "    <tr>\n",
              "      <th>halflogistic</th>\n",
              "      <td>8.791795</td>\n",
              "      <td>18519.514731</td>\n",
              "      <td>-83326.604038</td>\n",
              "      <td>inf</td>\n",
              "    </tr>\n",
              "  </tbody>\n",
              "</table>\n",
              "</div>\n",
              "      <button class=\"colab-df-convert\" onclick=\"convertToInteractive('df-b5e83890-0ae9-469a-8f20-d5a8b0554664')\"\n",
              "              title=\"Convert this dataframe to an interactive table.\"\n",
              "              style=\"display:none;\">\n",
              "        \n",
              "  <svg xmlns=\"http://www.w3.org/2000/svg\" height=\"24px\"viewBox=\"0 0 24 24\"\n",
              "       width=\"24px\">\n",
              "    <path d=\"M0 0h24v24H0V0z\" fill=\"none\"/>\n",
              "    <path d=\"M18.56 5.44l.94 2.06.94-2.06 2.06-.94-2.06-.94-.94-2.06-.94 2.06-2.06.94zm-11 1L8.5 8.5l.94-2.06 2.06-.94-2.06-.94L8.5 2.5l-.94 2.06-2.06.94zm10 10l.94 2.06.94-2.06 2.06-.94-2.06-.94-.94-2.06-.94 2.06-2.06.94z\"/><path d=\"M17.41 7.96l-1.37-1.37c-.4-.4-.92-.59-1.43-.59-.52 0-1.04.2-1.43.59L10.3 9.45l-7.72 7.72c-.78.78-.78 2.05 0 2.83L4 21.41c.39.39.9.59 1.41.59.51 0 1.02-.2 1.41-.59l7.78-7.78 2.81-2.81c.8-.78.8-2.07 0-2.86zM5.41 20L4 18.59l7.72-7.72 1.47 1.35L5.41 20z\"/>\n",
              "  </svg>\n",
              "      </button>\n",
              "      \n",
              "  <style>\n",
              "    .colab-df-container {\n",
              "      display:flex;\n",
              "      flex-wrap:wrap;\n",
              "      gap: 12px;\n",
              "    }\n",
              "\n",
              "    .colab-df-convert {\n",
              "      background-color: #E8F0FE;\n",
              "      border: none;\n",
              "      border-radius: 50%;\n",
              "      cursor: pointer;\n",
              "      display: none;\n",
              "      fill: #1967D2;\n",
              "      height: 32px;\n",
              "      padding: 0 0 0 0;\n",
              "      width: 32px;\n",
              "    }\n",
              "\n",
              "    .colab-df-convert:hover {\n",
              "      background-color: #E2EBFA;\n",
              "      box-shadow: 0px 1px 2px rgba(60, 64, 67, 0.3), 0px 1px 3px 1px rgba(60, 64, 67, 0.15);\n",
              "      fill: #174EA6;\n",
              "    }\n",
              "\n",
              "    [theme=dark] .colab-df-convert {\n",
              "      background-color: #3B4455;\n",
              "      fill: #D2E3FC;\n",
              "    }\n",
              "\n",
              "    [theme=dark] .colab-df-convert:hover {\n",
              "      background-color: #434B5C;\n",
              "      box-shadow: 0px 1px 3px 1px rgba(0, 0, 0, 0.15);\n",
              "      filter: drop-shadow(0px 1px 2px rgba(0, 0, 0, 0.3));\n",
              "      fill: #FFFFFF;\n",
              "    }\n",
              "  </style>\n",
              "\n",
              "      <script>\n",
              "        const buttonEl =\n",
              "          document.querySelector('#df-b5e83890-0ae9-469a-8f20-d5a8b0554664 button.colab-df-convert');\n",
              "        buttonEl.style.display =\n",
              "          google.colab.kernel.accessAllowed ? 'block' : 'none';\n",
              "\n",
              "        async function convertToInteractive(key) {\n",
              "          const element = document.querySelector('#df-b5e83890-0ae9-469a-8f20-d5a8b0554664');\n",
              "          const dataTable =\n",
              "            await google.colab.kernel.invokeFunction('convertToInteractive',\n",
              "                                                     [key], {});\n",
              "          if (!dataTable) return;\n",
              "\n",
              "          const docLinkHtml = 'Like what you see? Visit the ' +\n",
              "            '<a target=\"_blank\" href=https://colab.research.google.com/notebooks/data_table.ipynb>data table notebook</a>'\n",
              "            + ' to learn more about interactive tables.';\n",
              "          element.innerHTML = '';\n",
              "          dataTable['output_type'] = 'display_data';\n",
              "          await google.colab.output.renderOutput(dataTable, element);\n",
              "          const docLink = document.createElement('div');\n",
              "          docLink.innerHTML = docLinkHtml;\n",
              "          element.appendChild(docLink);\n",
              "        }\n",
              "      </script>\n",
              "    </div>\n",
              "  </div>\n",
              "  "
            ]
          },
          "metadata": {},
          "execution_count": 17
        },
        {
          "output_type": "display_data",
          "data": {
            "text/plain": [
              "<Figure size 432x288 with 1 Axes>"
            ],
            "image/png": "[encoded data removed]"
          },
          "metadata": {
            "needs_background": "light"
          }
        }
      ]
    },
    {
      "cell_type": "code",
      "source": [
        "f2.get_best(method='sumsquare_error')"
      ],
      "metadata": {
        "colab": {
          "base_uri": "https://localhost:8080/"
        },
        "id": "lAYwcL8jEtwS",
        "outputId": "57e70bc1-7d90-4c02-de80-4d8294f1d362"
      },
      "execution_count": null,
      "outputs": [
        {
          "output_type": "execute_result",
          "data": {
            "text/plain": [
              "{'exponnorm': {'K': 363.8781369867411,\n",
              "  'loc': 0.0007634413885345716,\n",
              "  'scale': 0.00015326672883591235}}"
            ]
          },
          "metadata": {},
          "execution_count": 16
        }
      ]
    },
    {
      "cell_type": "markdown",
      "source": [
        "It founds it follows the most distribution it follow is:\n",
        "\n",
        "An exponentially modified Normal continuous random variable \n",
        "\n",
        "Also known as the exponentially modified Gaussian distribution\n",
        "\n",
        "With k equals to 363.8"
      ],
      "metadata": {
        "id": "Tym6YaVDwc1h"
      }
    },
    {
      "cell_type": "code",
      "source": [
        "#Third set of data (days)\n",
        "import time\n",
        "t1=time.time()\n",
        "f3 = Fitter(df_3)\n",
        "f3.fit()\n",
        "t2=time.time()\n",
        "print('time for process is ', t2-t1)"
      ],
      "metadata": {
        "colab": {
          "base_uri": "https://localhost:8080/"
        },
        "id": "RucsU4eDHzBH",
        "outputId": "2aab0f58-014a-4ef5-a0f9-4581202dabf1"
      },
      "execution_count": null,
      "outputs": [
        {
          "output_type": "stream",
          "name": "stderr",
          "text": [
            "WARNING:root:SKIPPED argus distribution (taking more than 30 seconds)\n",
            "WARNING:root:SKIPPED beta distribution (taking more than 30 seconds)\n",
            "WARNING:root:SKIPPED betaprime distribution (taking more than 30 seconds)\n",
            "WARNING:root:SKIPPED burr distribution (taking more than 30 seconds)\n",
            "WARNING:root:SKIPPED burr12 distribution (taking more than 30 seconds)\n",
            "WARNING:root:SKIPPED exponpow distribution (taking more than 30 seconds)\n",
            "WARNING:root:SKIPPED exponweib distribution (taking more than 30 seconds)\n",
            "WARNING:root:SKIPPED fisk distribution (taking more than 30 seconds)\n",
            "WARNING:root:SKIPPED frechet_r distribution (taking more than 30 seconds)\n",
            "WARNING:root:SKIPPED gausshyper distribution (taking more than 30 seconds)\n",
            "WARNING:root:SKIPPED genexpon distribution (taking more than 30 seconds)\n",
            "WARNING:root:SKIPPED genextreme distribution (taking more than 30 seconds)\n",
            "WARNING:root:SKIPPED gengamma distribution (taking more than 30 seconds)\n",
            "WARNING:root:SKIPPED geninvgauss distribution (taking more than 30 seconds)\n",
            "WARNING:root:SKIPPED invweibull distribution (taking more than 30 seconds)\n",
            "WARNING:root:SKIPPED johnsonsb distribution (taking more than 30 seconds)\n",
            "WARNING:root:SKIPPED johnsonsu distribution (taking more than 30 seconds)\n",
            "WARNING:root:SKIPPED kappa4 distribution (taking more than 30 seconds)\n",
            "WARNING:root:SKIPPED ksone distribution (taking more than 30 seconds)\n",
            "WARNING:root:SKIPPED levy_stable distribution (taking more than 30 seconds)\n",
            "WARNING:root:SKIPPED loggamma distribution (taking more than 30 seconds)\n",
            "WARNING:root:SKIPPED loglaplace distribution (taking more than 30 seconds)\n",
            "WARNING:root:SKIPPED lognorm distribution (taking more than 30 seconds)\n",
            "WARNING:root:SKIPPED mielke distribution (taking more than 30 seconds)\n",
            "WARNING:root:SKIPPED nakagami distribution (taking more than 30 seconds)\n",
            "WARNING:root:SKIPPED ncf distribution (taking more than 30 seconds)\n",
            "WARNING:root:SKIPPED nct distribution (taking more than 30 seconds)\n",
            "WARNING:root:SKIPPED ncx2 distribution (taking more than 30 seconds)\n",
            "WARNING:root:SKIPPED pearson3 distribution (taking more than 30 seconds)\n",
            "WARNING:root:SKIPPED powerlognorm distribution (taking more than 30 seconds)\n",
            "WARNING:root:SKIPPED powernorm distribution (taking more than 30 seconds)\n",
            "WARNING:root:SKIPPED recipinvgauss distribution (taking more than 30 seconds)\n",
            "WARNING:root:SKIPPED rv_continuous distribution (taking more than 30 seconds)\n",
            "WARNING:root:SKIPPED rv_histogram distribution (taking more than 30 seconds)\n",
            "WARNING:root:SKIPPED skewnorm distribution (taking more than 30 seconds)\n",
            "WARNING:root:SKIPPED triang distribution (taking more than 30 seconds)\n",
            "WARNING:root:SKIPPED truncnorm distribution (taking more than 30 seconds)\n",
            "WARNING:root:SKIPPED tukeylambda distribution (taking more than 30 seconds)\n",
            "WARNING:root:SKIPPED vonmises distribution (taking more than 30 seconds)\n",
            "WARNING:root:SKIPPED vonmises_line distribution (taking more than 30 seconds)\n",
            "WARNING:root:SKIPPED weibull_max distribution (taking more than 30 seconds)\n",
            "WARNING:root:SKIPPED weibull_min distribution (taking more than 30 seconds)\n"
          ]
        },
        {
          "output_type": "stream",
          "name": "stdout",
          "text": [
            "time for process is  1018.0886523723602\n"
          ]
        }
      ]
    },
    {
      "cell_type": "code",
      "source": [
        "print('time consumed', (t2-t1)/60 , 'mins')"
      ],
      "metadata": {
        "colab": {
          "base_uri": "https://localhost:8080/"
        },
        "id": "kDjG0vhINhaG",
        "outputId": "6fb1913f-4027-46ef-e7ca-00befc7fcfa6"
      },
      "execution_count": null,
      "outputs": [
        {
          "output_type": "stream",
          "name": "stdout",
          "text": [
            "time consumed 16.968144206206002 mins\n"
          ]
        }
      ]
    },
    {
      "cell_type": "code",
      "source": [
        "f3.summary()"
      ],
      "metadata": {
        "colab": {
          "base_uri": "https://localhost:8080/",
          "height": 458
        },
        "id": "5Qo7sGc0H7LL",
        "outputId": "cb5ebe22-f9da-4c85-a16b-c01825a84857"
      },
      "execution_count": null,
      "outputs": [
        {
          "output_type": "execute_result",
          "data": {
            "text/plain": [
              "              sumsquare_error           aic           bic  kl_div\n",
              "exponnorm            5.851045  15312.059159 -84311.542896     inf\n",
              "expon                5.889778  15248.256698 -84247.195846     inf\n",
              "halflogistic         8.737081  15758.195154 -79844.190838     inf\n",
              "moyal               12.858665  15928.888286 -75529.569045     inf\n",
              "frechet_l           15.187159  17370.092381 -73662.030815     inf"
            ],
            "text/html": [
              "\n",
              "  <div id=\"df-44b7a925-37e7-4b14-ad31-de78ea1884cb\">\n",
              "    <div class=\"colab-df-container\">\n",
              "      <div>\n",
              "<style scoped>\n",
              "    .dataframe tbody tr th:only-of-type {\n",
              "        vertical-align: middle;\n",
              "    }\n",
              "\n",
              "    .dataframe tbody tr th {\n",
              "        vertical-align: top;\n",
              "    }\n",
              "\n",
              "    .dataframe thead th {\n",
              "        text-align: right;\n",
              "    }\n",
              "</style>\n",
              "<table border=\"1\" class=\"dataframe\">\n",
              "  <thead>\n",
              "    <tr style=\"text-align: right;\">\n",
              "      <th></th>\n",
              "      <th>sumsquare_error</th>\n",
              "      <th>aic</th>\n",
              "      <th>bic</th>\n",
              "      <th>kl_div</th>\n",
              "    </tr>\n",
              "  </thead>\n",
              "  <tbody>\n",
              "    <tr>\n",
              "      <th>exponnorm</th>\n",
              "      <td>5.851045</td>\n",
              "      <td>15312.059159</td>\n",
              "      <td>-84311.542896</td>\n",
              "      <td>inf</td>\n",
              "    </tr>\n",
              "    <tr>\n",
              "      <th>expon</th>\n",
              "      <td>5.889778</td>\n",
              "      <td>15248.256698</td>\n",
              "      <td>-84247.195846</td>\n",
              "      <td>inf</td>\n",
              "    </tr>\n",
              "    <tr>\n",
              "      <th>halflogistic</th>\n",
              "      <td>8.737081</td>\n",
              "      <td>15758.195154</td>\n",
              "      <td>-79844.190838</td>\n",
              "      <td>inf</td>\n",
              "    </tr>\n",
              "    <tr>\n",
              "      <th>moyal</th>\n",
              "      <td>12.858665</td>\n",
              "      <td>15928.888286</td>\n",
              "      <td>-75529.569045</td>\n",
              "      <td>inf</td>\n",
              "    </tr>\n",
              "    <tr>\n",
              "      <th>frechet_l</th>\n",
              "      <td>15.187159</td>\n",
              "      <td>17370.092381</td>\n",
              "      <td>-73662.030815</td>\n",
              "      <td>inf</td>\n",
              "    </tr>\n",
              "  </tbody>\n",
              "</table>\n",
              "</div>\n",
              "      <button class=\"colab-df-convert\" onclick=\"convertToInteractive('df-44b7a925-37e7-4b14-ad31-de78ea1884cb')\"\n",
              "              title=\"Convert this dataframe to an interactive table.\"\n",
              "              style=\"display:none;\">\n",
              "        \n",
              "  <svg xmlns=\"http://www.w3.org/2000/svg\" height=\"24px\"viewBox=\"0 0 24 24\"\n",
              "       width=\"24px\">\n",
              "    <path d=\"M0 0h24v24H0V0z\" fill=\"none\"/>\n",
              "    <path d=\"M18.56 5.44l.94 2.06.94-2.06 2.06-.94-2.06-.94-.94-2.06-.94 2.06-2.06.94zm-11 1L8.5 8.5l.94-2.06 2.06-.94-2.06-.94L8.5 2.5l-.94 2.06-2.06.94zm10 10l.94 2.06.94-2.06 2.06-.94-2.06-.94-.94-2.06-.94 2.06-2.06.94z\"/><path d=\"M17.41 7.96l-1.37-1.37c-.4-.4-.92-.59-1.43-.59-.52 0-1.04.2-1.43.59L10.3 9.45l-7.72 7.72c-.78.78-.78 2.05 0 2.83L4 21.41c.39.39.9.59 1.41.59.51 0 1.02-.2 1.41-.59l7.78-7.78 2.81-2.81c.8-.78.8-2.07 0-2.86zM5.41 20L4 18.59l7.72-7.72 1.47 1.35L5.41 20z\"/>\n",
              "  </svg>\n",
              "      </button>\n",
              "      \n",
              "  <style>\n",
              "    .colab-df-container {\n",
              "      display:flex;\n",
              "      flex-wrap:wrap;\n",
              "      gap: 12px;\n",
              "    }\n",
              "\n",
              "    .colab-df-convert {\n",
              "      background-color: #E8F0FE;\n",
              "      border: none;\n",
              "      border-radius: 50%;\n",
              "      cursor: pointer;\n",
              "      display: none;\n",
              "      fill: #1967D2;\n",
              "      height: 32px;\n",
              "      padding: 0 0 0 0;\n",
              "      width: 32px;\n",
              "    }\n",
              "\n",
              "    .colab-df-convert:hover {\n",
              "      background-color: #E2EBFA;\n",
              "      box-shadow: 0px 1px 2px rgba(60, 64, 67, 0.3), 0px 1px 3px 1px rgba(60, 64, 67, 0.15);\n",
              "      fill: #174EA6;\n",
              "    }\n",
              "\n",
              "    [theme=dark] .colab-df-convert {\n",
              "      background-color: #3B4455;\n",
              "      fill: #D2E3FC;\n",
              "    }\n",
              "\n",
              "    [theme=dark] .colab-df-convert:hover {\n",
              "      background-color: #434B5C;\n",
              "      box-shadow: 0px 1px 3px 1px rgba(0, 0, 0, 0.15);\n",
              "      filter: drop-shadow(0px 1px 2px rgba(0, 0, 0, 0.3));\n",
              "      fill: #FFFFFF;\n",
              "    }\n",
              "  </style>\n",
              "\n",
              "      <script>\n",
              "        const buttonEl =\n",
              "          document.querySelector('#df-44b7a925-37e7-4b14-ad31-de78ea1884cb button.colab-df-convert');\n",
              "        buttonEl.style.display =\n",
              "          google.colab.kernel.accessAllowed ? 'block' : 'none';\n",
              "\n",
              "        async function convertToInteractive(key) {\n",
              "          const element = document.querySelector('#df-44b7a925-37e7-4b14-ad31-de78ea1884cb');\n",
              "          const dataTable =\n",
              "            await google.colab.kernel.invokeFunction('convertToInteractive',\n",
              "                                                     [key], {});\n",
              "          if (!dataTable) return;\n",
              "\n",
              "          const docLinkHtml = 'Like what you see? Visit the ' +\n",
              "            '<a target=\"_blank\" href=https://colab.research.google.com/notebooks/data_table.ipynb>data table notebook</a>'\n",
              "            + ' to learn more about interactive tables.';\n",
              "          element.innerHTML = '';\n",
              "          dataTable['output_type'] = 'display_data';\n",
              "          await google.colab.output.renderOutput(dataTable, element);\n",
              "          const docLink = document.createElement('div');\n",
              "          docLink.innerHTML = docLinkHtml;\n",
              "          element.appendChild(docLink);\n",
              "        }\n",
              "      </script>\n",
              "    </div>\n",
              "  </div>\n",
              "  "
            ]
          },
          "metadata": {},
          "execution_count": 34
        },
        {
          "output_type": "display_data",
          "data": {
            "text/plain": [
              "<Figure size 432x288 with 1 Axes>"
            ],
            "image/png": "[encoded data removed]"
          },
          "metadata": {
            "needs_background": "light"
          }
        }
      ]
    },
    {
      "cell_type": "code",
      "source": [
        "f3.get_best(method='sumsquare_error')"
      ],
      "metadata": {
        "colab": {
          "base_uri": "https://localhost:8080/"
        },
        "id": "UPxgCDsTH0IM",
        "outputId": "6b54cbc2-daa2-4a35-d37e-793a77de97a2"
      },
      "execution_count": null,
      "outputs": [
        {
          "output_type": "execute_result",
          "data": {
            "text/plain": [
              "{'exponnorm': {'K': 1946.044281796026,\n",
              "  'loc': 0.0008096185547969757,\n",
              "  'scale': 4.2262007185320626e-05}}"
            ]
          },
          "metadata": {},
          "execution_count": 35
        }
      ]
    },
    {
      "cell_type": "markdown",
      "source": [
        "It founds it follows the most distribution it follow is:\n",
        "\n",
        "An exponentially modified Normal continuous random variable \n",
        "\n",
        "Also known as the exponentially modified Gaussian distribution\n",
        "\n",
        "With k equals to 1946"
      ],
      "metadata": {
        "id": "P3SBlCPvv8w_"
      }
    },
    {
      "cell_type": "markdown",
      "source": [
        "#Draw Histogram:"
      ],
      "metadata": {
        "id": "BUCU_MuItPsd"
      }
    },
    {
      "cell_type": "code",
      "source": [
        "import pandas as pd\n",
        "import numpy as np\n",
        "import warnings\n",
        "\n",
        "warnings.filterwarnings(\"ignore\")"
      ],
      "metadata": {
        "id": "7Xi8AlsYtToi"
      },
      "execution_count": null,
      "outputs": []
    },
    {
      "cell_type": "markdown",
      "source": [
        "I will draw histogram for just one feature (first wavelength) through first (the first 4 days),second and third sets of data."
      ],
      "metadata": {
        "id": "CnL0-RDxu8xw"
      }
    },
    {
      "cell_type": "code",
      "source": [
        "#first 4 days histogram for first wavelength:\n",
        "df_1.hist(column=2543.4819310710036);"
      ],
      "metadata": {
        "colab": {
          "base_uri": "https://localhost:8080/",
          "height": 281
        },
        "id": "AmkCqLQZtaHj",
        "outputId": "b80583ab-48f1-4d50-c6d7-3f6dc422fdb4"
      },
      "execution_count": null,
      "outputs": [
        {
          "output_type": "display_data",
          "data": {
            "text/plain": [
              "<Figure size 432x288 with 1 Axes>"
            ],
            "image/png": "[encoded data removed]"
          },
          "metadata": {
            "needs_background": "light"
          }
        }
      ]
    },
    {
      "cell_type": "code",
      "source": [
        "#Second 4 days histogram for first wavelength:\n",
        "df_2.hist(column=2543.4819310710036);"
      ],
      "metadata": {
        "colab": {
          "base_uri": "https://localhost:8080/",
          "height": 281
        },
        "id": "u-NmCAibu-fx",
        "outputId": "8b07fddf-f4cc-4e57-bbaf-865568381bab"
      },
      "execution_count": null,
      "outputs": [
        {
          "output_type": "display_data",
          "data": {
            "text/plain": [
              "<Figure size 432x288 with 1 Axes>"
            ],
            "image/png": "[encoded data removed]"
          },
          "metadata": {
            "needs_background": "light"
          }
        }
      ]
    },
    {
      "cell_type": "code",
      "source": [
        "#Third 4 days histogram for first wavelength:\n",
        "df_3.hist(column=2543.4819310710036);"
      ],
      "metadata": {
        "colab": {
          "base_uri": "https://localhost:8080/",
          "height": 281
        },
        "id": "xidVFfhEu_8E",
        "outputId": "bd825493-fee1-41b2-b367-4047fd04fa92"
      },
      "execution_count": null,
      "outputs": [
        {
          "output_type": "display_data",
          "data": {
            "text/plain": [
              "<Figure size 432x288 with 1 Axes>"
            ],
            "image/png": "[encoded data removed]"
          },
          "metadata": {
            "needs_background": "light"
          }
        }
      ]
    },
    {
      "cell_type": "markdown",
      "source": [
        "# Histograms for different 'days' within a given column 'first wavelength' in pandas.\n",
        "\n",
        "So here I am drawing histogram for first coulmn 'first wavelength' across different days (target value)... we will notice change in histogram through different class/day."
      ],
      "metadata": {
        "id": "yNxKl_6myUM7"
      }
    },
    {
      "cell_type": "code",
      "source": [
        "tomato.hist(column=2543.4819310710036, by='day');"
      ],
      "metadata": {
        "colab": {
          "base_uri": "https://localhost:8080/",
          "height": 298
        },
        "id": "gj27S6GMxqiO",
        "outputId": "a552c1cb-c6e7-487b-961f-167b7ad3b716"
      },
      "execution_count": null,
      "outputs": [
        {
          "output_type": "display_data",
          "data": {
            "text/plain": [
              "<Figure size 432x288 with 12 Axes>"
            ],
            "image/png": "[encoded data removed]"
          },
          "metadata": {
            "needs_background": "light"
          }
        }
      ]
    },
    {
      "cell_type": "markdown",
      "source": [
        "#matplotlib : I will plot the three columns/features (wavelengths) vs day \n",
        "for the first , second and third set of data (df_1,df_2,df_3) to check change happens in plotting accross days in different sets of data for the same features (just three wavelengths)"
      ],
      "metadata": {
        "id": "6wnxRGSJ1hpU"
      }
    },
    {
      "cell_type": "markdown",
      "source": [
        "First set of data: day 1,2,3,5"
      ],
      "metadata": {
        "id": "N3HjOu6b4FLk"
      }
    },
    {
      "cell_type": "code",
      "source": [
        "import matplotlib.pyplot as plt\n",
        "df_1.plot(x=\"day\", y=[1383.644603743925, 1378.9866499385419,1374.3599593732647])\n",
        "plt.show()"
      ],
      "metadata": {
        "colab": {
          "base_uri": "https://localhost:8080/",
          "height": 281
        },
        "id": "yZthriAd1W56",
        "outputId": "8fdf0fae-4d52-48ad-c977-e0e56a3a837a"
      },
      "execution_count": null,
      "outputs": [
        {
          "output_type": "display_data",
          "data": {
            "text/plain": [
              "<Figure size 432x288 with 1 Axes>"
            ],
            "image/png": "[encoded data removed]"
          },
          "metadata": {
            "needs_background": "light"
          }
        }
      ]
    },
    {
      "cell_type": "markdown",
      "source": [
        "Second set of data: day 6,7,8,9"
      ],
      "metadata": {
        "id": "p22xo4Gx4JvF"
      }
    },
    {
      "cell_type": "code",
      "source": [
        "import matplotlib.pyplot as plt\n",
        "df_2.plot(x=\"day\",  y=[1383.644603743925, 1378.9866499385419,1374.3599593732647])\n",
        "plt.show()"
      ],
      "metadata": {
        "colab": {
          "base_uri": "https://localhost:8080/",
          "height": 279
        },
        "id": "99x-0ewt2Q26",
        "outputId": "575b9bfe-be5b-48c0-a557-95f9e6858dca"
      },
      "execution_count": null,
      "outputs": [
        {
          "output_type": "display_data",
          "data": {
            "text/plain": [
              "<Figure size 432x288 with 1 Axes>"
            ],
            "image/png": "[encoded data removed]"
          },
          "metadata": {
            "needs_background": "light"
          }
        }
      ]
    },
    {
      "cell_type": "markdown",
      "source": [
        "Third set of data: day 10,11,12,13"
      ],
      "metadata": {
        "id": "cciqjg8p4QIJ"
      }
    },
    {
      "cell_type": "code",
      "source": [
        "import matplotlib.pyplot as plt\n",
        "df_3.plot(x=\"day\", y=[1383.644603743925, 1378.9866499385419,1374.3599593732647])\n",
        "plt.show()"
      ],
      "metadata": {
        "colab": {
          "base_uri": "https://localhost:8080/",
          "height": 279
        },
        "id": "uyvfJ2482RUv",
        "outputId": "38a134b2-c299-4eb7-c04d-ef54bd717b42"
      },
      "execution_count": null,
      "outputs": [
        {
          "output_type": "display_data",
          "data": {
            "text/plain": [
              "<Figure size 432x288 with 1 Axes>"
            ],
            "image/png": "[encoded data removed]"
          },
          "metadata": {
            "needs_background": "light"
          }
        }
      ]
    },
    {
      "cell_type": "markdown",
      "source": [
        "# I can't get clear insights from these above plots "
      ],
      "metadata": {
        "id": "PQ2jqvd54ef-"
      }
    }
  ]
}